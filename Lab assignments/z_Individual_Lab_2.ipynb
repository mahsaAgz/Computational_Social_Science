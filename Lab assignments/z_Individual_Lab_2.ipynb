{
  "nbformat": 4,
  "nbformat_minor": 0,
  "metadata": {
    "colab": {
      "provenance": [],
      "toc_visible": true
    },
    "kernelspec": {
      "name": "python3",
      "display_name": "Python 3"
    },
    "language_info": {
      "name": "python"
    }
  },
  "cells": [
    {
      "cell_type": "markdown",
      "source": [
        "# Mahsa Aghazadeh 20234622"
      ],
      "metadata": {
        "id": "jG1NosCloXEY"
      }
    },
    {
      "cell_type": "markdown",
      "source": [
        "## HSS407 Individual Lab 2\n",
        "### Sampling distribution and inferential statistics\n",
        "\n",
        "- In this lab, we will practice to understand how sampling distribution works step-by-step.\n",
        "- Let's say our population size is 10k and we measure the height of KAIST students.\n",
        "- The proportion of man is very high in KAIST, which will make the height distribution bimodal."
      ],
      "metadata": {
        "id": "-axcOYMgtMH_"
      }
    },
    {
      "cell_type": "markdown",
      "source": [
        "Let's create a hypothetical KAIST students height distribution.\n"
      ],
      "metadata": {
        "id": "OlVXyBCDtuMl"
      }
    },
    {
      "cell_type": "code",
      "source": [
        "import numpy as np\n",
        "\n",
        "kaist_pop = np.concatenate([np.random.normal(175, 3, 8000), np.random.normal(160, 3, 2000)])"
      ],
      "metadata": {
        "id": "1hLBVM3wthb_"
      },
      "execution_count": null,
      "outputs": []
    },
    {
      "cell_type": "markdown",
      "source": [
        "### Question 1\n",
        "Check its distribution using a histogram and describe its shape.\n"
      ],
      "metadata": {
        "id": "w9ZqnJrlty3Y"
      }
    },
    {
      "cell_type": "code",
      "source": [
        "import matplotlib.pyplot as plt\n",
        "\n",
        "plt.hist(kaist_pop)\n",
        "plt.xlabel(\"Height (cm)\")\n",
        "plt.ylabel(\"Number of students\")\n",
        "plt.title(\"Distribution of KAIST students' height\")\n",
        "plt.show()\n"
      ],
      "metadata": {
        "colab": {
          "base_uri": "https://localhost:8080/",
          "height": 472
        },
        "id": "_JdHdVTNWTR5",
        "outputId": "9fcb700d-5a52-4957-bbc1-6c0e91b8a367"
      },
      "execution_count": null,
      "outputs": [
        {
          "output_type": "display_data",
          "data": {
            "text/plain": [
              "<Figure size 640x480 with 1 Axes>"
            ],
            "image/png": "[encoded data removed]"
          },
          "metadata": {}
        }
      ]
    },
    {
      "cell_type": "markdown",
      "source": [
        "The distribution is bimodal, with two peaks at around 160 cm and 175 cm. This is because the population is composed of two distinct groups: men and women. Men are typically taller than women, so the distribution of their heights is shifted to the right. Women are typically shorter than men, so the distribution of their heights is shifted to the left.\n"
      ],
      "metadata": {
        "id": "FN2zPhDCWoWH"
      }
    },
    {
      "cell_type": "markdown",
      "source": [
        "---"
      ],
      "metadata": {
        "id": "ZT3nSen4t8tW"
      }
    },
    {
      "cell_type": "markdown",
      "source": [
        "### Question 2\n",
        "Check the population mean and standard deviation."
      ],
      "metadata": {
        "id": "vtRAaks4uBbO"
      }
    },
    {
      "cell_type": "code",
      "source": [
        "import numpy as np\n",
        "mean = np.mean(kaist_pop)\n",
        "std = np.std(kaist_pop)\n",
        "\n",
        "print(f\"Population mean: {mean:.2f} cm\")\n",
        "print(f\"Population standard deviation: {std:.2f} cm\")\n"
      ],
      "metadata": {
        "id": "pWqxFGjdt9Cb",
        "colab": {
          "base_uri": "https://localhost:8080/"
        },
        "outputId": "e0dda95e-13ad-41f4-8959-50387fbd310d"
      },
      "execution_count": null,
      "outputs": [
        {
          "output_type": "stream",
          "name": "stdout",
          "text": [
            "Population mean: 171.98 cm\n",
            "Population standard deviation: 6.71 cm\n"
          ]
        }
      ]
    },
    {
      "cell_type": "markdown",
      "source": [
        "---"
      ],
      "metadata": {
        "id": "XDF8JBJuuIpw"
      }
    },
    {
      "cell_type": "markdown",
      "source": [
        "Now, sample 100 students randomly from the population.\n"
      ],
      "metadata": {
        "id": "pPi90QSLuNUQ"
      }
    },
    {
      "cell_type": "code",
      "source": [
        "np.random.seed(42)  # To ensure reproducibility\n",
        "sample = np.random.choice(kaist_pop, 100, replace=False)"
      ],
      "metadata": {
        "id": "IiznP4GfuIG4"
      },
      "execution_count": null,
      "outputs": []
    },
    {
      "cell_type": "markdown",
      "source": [
        "### Question 3\n",
        "Again, check its distribution using a histogram, and compute mean and sd, then compare them to your population distribution.\n"
      ],
      "metadata": {
        "id": "ysxc-G_EuRj1"
      }
    },
    {
      "cell_type": "code",
      "source": [
        "import matplotlib.pyplot as plt\n",
        "import numpy as np\n",
        "plt.hist(sample)\n",
        "plt.xlabel(\"Height (cm)\")\n",
        "plt.ylabel(\"Number of students\")\n",
        "plt.title(\"Distribution of sample students' height\")\n",
        "plt.show()\n",
        "\n",
        "mean_sample = np.mean(sample)\n",
        "std_sample = np.std(sample)\n",
        "\n",
        "print(f\"Sample mean: {mean_sample:.2f} cm\")\n",
        "print(f\"Sample standard deviation: {std_sample:.2f} cm\")"
      ],
      "metadata": {
        "id": "xbAacmSZuRR2",
        "colab": {
          "base_uri": "https://localhost:8080/",
          "height": 507
        },
        "outputId": "f91b8c50-c90a-4973-8de4-af0674f2afed"
      },
      "execution_count": null,
      "outputs": [
        {
          "output_type": "display_data",
          "data": {
            "text/plain": [
              "<Figure size 640x480 with 1 Axes>"
            ],
            "image/png": "[encoded data removed]"
          },
          "metadata": {}
        },
        {
          "output_type": "stream",
          "name": "stdout",
          "text": [
            "Sample mean: 171.49 cm\n",
            "Sample standard deviation: 6.80 cm\n"
          ]
        }
      ]
    },
    {
      "cell_type": "markdown",
      "source": [
        "The distribution of the sample is similar to the distribution of the population. However it seems like the sample distribution has more fluctuations and less smoothness compared to the population distribution, which is expected with smaller sample sizes.\n",
        "\n",
        "Mean and standard deviation is pretty close to the population's mean and standard deviation but yet not precise which shows single sample cannot represent the whole population but may give us a overal veiw"
      ],
      "metadata": {
        "id": "EiFVBiKpJSjm"
      }
    },
    {
      "cell_type": "markdown",
      "source": [
        "---"
      ],
      "metadata": {
        "id": "5tHex7m9ukyB"
      }
    },
    {
      "cell_type": "markdown",
      "source": [
        "Now, let's repeat the same procedure for 1,000 times, and save their average."
      ],
      "metadata": {
        "id": "mLPQCRe1ull6"
      }
    },
    {
      "cell_type": "code",
      "source": [
        "sampling_distribution_n100 = []\n",
        "\n",
        "for i in range(1000):\n",
        "    sample_mean = np.mean(np.random.choice(kaist_pop, 100, replace=False))\n",
        "    sampling_distribution_n100.append(sample_mean)"
      ],
      "metadata": {
        "id": "JAJ2du4nulF9"
      },
      "execution_count": null,
      "outputs": []
    },
    {
      "cell_type": "markdown",
      "source": [
        "### Question 4\n",
        "Check the distribution of sampling distribution by using a histogram, and compute a mean and sd.\n",
        "\n",
        "(continued) Describe the shape of distribution and compare it to the distribution from population. Do they look similar or not, and why?\n",
        "\n",
        "(continued) Describe the mean and standard deviation. Is it similar to population mean and standard deviation?"
      ],
      "metadata": {
        "id": "x9nlDcG6uxIt"
      }
    },
    {
      "cell_type": "code",
      "source": [
        "import matplotlib.pyplot as plt\n",
        "import numpy as np\n",
        "plt.hist(sampling_distribution_n100)\n",
        "plt.xlabel(\"Sample mean (cm)\")\n",
        "plt.ylabel(\"Frequency\")\n",
        "plt.title(\"Distribution of sample means (n=100)\")\n",
        "plt.show()\n",
        "\n",
        "mean_sampling_distribution = np.mean(sampling_distribution_n100)\n",
        "std_sampling_distribution = np.std(sampling_distribution_n100)\n",
        "\n",
        "print(f\"Mean of sampling distribution: {mean_sampling_distribution:.2f} cm\")\n",
        "print(f\"Standard deviation of sampling distribution: {std_sampling_distribution:.2f} cm\")\n"
      ],
      "metadata": {
        "id": "NIbSEQQzu2wG",
        "colab": {
          "base_uri": "https://localhost:8080/",
          "height": 507
        },
        "outputId": "34c3081d-fb76-4959-c086-6f3fd605139b"
      },
      "execution_count": null,
      "outputs": [
        {
          "output_type": "display_data",
          "data": {
            "text/plain": [
              "<Figure size 640x480 with 1 Axes>"
            ],
            "image/png": "[encoded data removed]"
          },
          "metadata": {}
        },
        {
          "output_type": "stream",
          "name": "stdout",
          "text": [
            "Mean of sampling distribution: 171.98 cm\n",
            "Standard deviation of sampling distribution: 0.65 cm\n"
          ]
        }
      ]
    },
    {
      "cell_type": "markdown",
      "source": [
        "1. Following the Central Limit Theorem the distribution looks more like a normal distribution. But the distribution of the population is bimodal\n",
        "\n",
        " Central Limit Theorem states that the distribution of sample means will be approximately normal, regardless of the shape of the population distribution.\n",
        "\n",
        "\n",
        "2. The mean of the sampling distribution is very close to the mean of the population. because the sample means are unbiased estimators of the population mean.\\\n",
        " Standard deviation of the sampling distribution is smaller than the standard deviation of the population. This is because the sample means are less variable than the individual data points in the population.\n"
      ],
      "metadata": {
        "id": "isSF_uBxjDCw"
      }
    },
    {
      "cell_type": "markdown",
      "source": [
        "---"
      ],
      "metadata": {
        "id": "wZr77fYXu6qB"
      }
    },
    {
      "cell_type": "markdown",
      "source": [
        "## Confidence interval"
      ],
      "metadata": {
        "id": "ZwGkqr3pu__4"
      }
    },
    {
      "cell_type": "markdown",
      "source": [
        "Let's again sample with size 100.\n"
      ],
      "metadata": {
        "id": "qzjqaKvTvI35"
      }
    },
    {
      "cell_type": "code",
      "source": [
        "sample_n100 = np.random.choice(kaist_pop, 100, replace=False)"
      ],
      "metadata": {
        "id": "rN6MMK31u7GV"
      },
      "execution_count": null,
      "outputs": []
    },
    {
      "cell_type": "code",
      "source": [
        "\n",
        "plt.hist(sample_n100)\n",
        "plt.xlabel(\"Height (cm)\")\n",
        "plt.ylabel(\"Number of students\")\n",
        "plt.title(\"Distribution of sample students' height (n=100)\")\n",
        "plt.show()\n"
      ],
      "metadata": {
        "colab": {
          "base_uri": "https://localhost:8080/",
          "height": 472
        },
        "id": "bgOMkHiKjaEe",
        "outputId": "2c9bd162-4bf2-4fb8-b506-10431ab70f70"
      },
      "execution_count": null,
      "outputs": [
        {
          "output_type": "display_data",
          "data": {
            "text/plain": [
              "<Figure size 640x480 with 1 Axes>"
            ],
            "image/png": "[encoded data removed]"
          },
          "metadata": {}
        }
      ]
    },
    {
      "cell_type": "markdown",
      "source": [
        "### Question 5\n",
        "Compute the mean and standard 'error'. Then, compute the 95% confidence interval. Explain the meaning of the confidence interval in English sentences."
      ],
      "metadata": {
        "id": "JrMa1bDwvPuC"
      }
    },
    {
      "cell_type": "code",
      "source": [
        "mean = np.mean(sample_n100)\n",
        "\n",
        "std_error = np.std(sample_n100, ddof=1) / np.sqrt(len(sample_n100))\n",
        "\n",
        "ci = (mean - 1.96 * std_error, mean + 1.96 * std_error)\n",
        "\n",
        "print(f\"95% confidence interval: ({ci[0]:.2f}, {ci[1]:.2f})\")"
      ],
      "metadata": {
        "id": "eT97VxfzvNlp",
        "colab": {
          "base_uri": "https://localhost:8080/"
        },
        "outputId": "31434792-3e10-4bd8-d323-4c0f19b1e763"
      },
      "execution_count": null,
      "outputs": [
        {
          "output_type": "stream",
          "name": "stdout",
          "text": [
            "95% confidence interval: (169.72, 172.28)\n"
          ]
        }
      ]
    },
    {
      "cell_type": "markdown",
      "source": [
        "The 95% confidence interval of (169.72, 172.28) means that we are 95% confident that the true mean of the population from which the sample was taken lies between 169.72 and 172.28."
      ],
      "metadata": {
        "id": "EU1P0JMFMONR"
      }
    },
    {
      "cell_type": "markdown",
      "source": [
        "---"
      ],
      "metadata": {
        "id": "PgY7He1rvTU2"
      }
    },
    {
      "cell_type": "markdown",
      "source": [
        "### Question 6\n",
        "Does your confidence interval cover the 'true' mean? What does that mean?\n"
      ],
      "metadata": {
        "id": "WRxpEQbevVFo"
      }
    },
    {
      "cell_type": "markdown",
      "source": [
        "Yes it covers the true mean.\n",
        "\n",
        "* The true mean of the population = 171.93 cm.\n",
        "* Our confidence interval = (169.72, 172.28).\n",
        "\n",
        "The true mean falls within our confidence interval. So we can say that the calculated interval from sample includes the true mean of the population. This suggests that our sample is likely a good representation of the population with respect to the mean."
      ],
      "metadata": {
        "id": "Hv9nRKKfj_JV"
      }
    },
    {
      "cell_type": "markdown",
      "source": [
        "---"
      ],
      "metadata": {
        "id": "kH6o7rG3vY8g"
      }
    },
    {
      "cell_type": "markdown",
      "source": [
        "Let's say that we randomly sample 30 POSTECH students and find out that their average height is 172.8. Let's assume that the variance of height is similar to KAIST students' height.\n"
      ],
      "metadata": {
        "id": "5OEamBr8veny"
      }
    },
    {
      "cell_type": "markdown",
      "source": [
        "### Question 7\n",
        "Does this sample support the argument that Postech students are statistically significantly taller than KAIST students?\n",
        "\n",
        "Use the t-test results below and examine the above hypothesis and interpret the results."
      ],
      "metadata": {
        "id": "Y-WR_Ozavmsg"
      }
    },
    {
      "cell_type": "code",
      "source": [
        "import scipy.stats as stats\n",
        "t_stat, p_value = stats.ttest_1samp(sample_n100, 172.8)\n",
        "print(f\"T-statistic: {t_stat}, P-value: {p_value}\")"
      ],
      "metadata": {
        "id": "bv0aEj0xvqos",
        "colab": {
          "base_uri": "https://localhost:8080/"
        },
        "outputId": "18269a19-cd94-46d3-80e3-1699b6cf5f05"
      },
      "execution_count": null,
      "outputs": [
        {
          "output_type": "stream",
          "name": "stdout",
          "text": [
            "T-statistic: -2.766039224887684, P-value: 0.006770619674762561\n"
          ]
        }
      ]
    },
    {
      "cell_type": "markdown",
      "source": [
        "Null Hypothesis (H0​): The mean height of POSTECH students is equal to the mean height of KAIST students.\n",
        "\n",
        "In this case, the p-value is 0.0068, which means the probability that observed sample mean would occure if the null hypothesis would be true\n",
        "is 0.0068 which is really low. This indicates that there is strong evidence to reject the null hypothesis.\n",
        "\n",
        "So POSTech students are either taller or shorter than KAIST.\n",
        "since the T-statsitic is negative we can say that the sample mean (POSTECH students' height) is lower than the population mean (KAIST students' height).\n"
      ],
      "metadata": {
        "id": "6ZY9_-wilrM8"
      }
    },
    {
      "cell_type": "markdown",
      "source": [
        "---"
      ],
      "metadata": {
        "id": "hhek3Zg9vuKn"
      }
    },
    {
      "cell_type": "markdown",
      "source": [
        "# THE END #"
      ],
      "metadata": {
        "id": "B8A3dBWsvvJ-"
      }
    }
  ]
}